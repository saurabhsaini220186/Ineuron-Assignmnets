{
 "cells": [
  {
   "cell_type": "code",
   "execution_count": 1,
   "id": "029c252a",
   "metadata": {},
   "outputs": [
    {
     "ename": "TypeError",
     "evalue": "can only concatenate str (not \"int\") to str",
     "output_type": "error",
     "traceback": [
      "\u001b[1;31m---------------------------------------------------------------------------\u001b[0m",
      "\u001b[1;31mTypeError\u001b[0m                                 Traceback (most recent call last)",
      "\u001b[1;32mC:\\Users\\VIVOBO~1\\AppData\\Local\\Temp/ipykernel_9928/113471842.py\u001b[0m in \u001b[0;36m<module>\u001b[1;34m\u001b[0m\n\u001b[1;32m----> 1\u001b[1;33m \u001b[1;34m\"I have eaten\"\u001b[0m \u001b[1;33m+\u001b[0m \u001b[1;36m99\u001b[0m \u001b[1;33m+\u001b[0m \u001b[1;34m\"burritos.\"\u001b[0m\u001b[1;33m\u001b[0m\u001b[1;33m\u001b[0m\u001b[0m\n\u001b[0m",
      "\u001b[1;31mTypeError\u001b[0m: can only concatenate str (not \"int\") to str"
     ]
    }
   ],
   "source": [
    "#10. Why does this expression cause an error? How can you fix it?\n",
    "\"I have eaten\" + \"99\" + \"burritos.\"\n",
    "\n",
    "# integer 99 cant be concatenate , only string can be concatenate. we can add double quotes to convert integer to string. \n"
   ]
  },
  {
   "cell_type": "code",
   "execution_count": 2,
   "id": "81d7da1e",
   "metadata": {},
   "outputs": [
    {
     "data": {
      "text/plain": [
       "'I have eaten99burritos.'"
      ]
     },
     "execution_count": 2,
     "metadata": {},
     "output_type": "execute_result"
    }
   ],
   "source": [
    "\"I have eaten\" + \"99\" + \"burritos.\""
   ]
  },
  {
   "cell_type": "code",
   "execution_count": null,
   "id": "c27ca903",
   "metadata": {},
   "outputs": [],
   "source": [
    "#9. What three functions can be used to get the integer, floating-point number, or string\n",
    "version of a value?\n",
    "\n",
    "#Ans int() , float(), str()"
   ]
  },
  {
   "cell_type": "code",
   "execution_count": 8,
   "id": "95061cd4",
   "metadata": {},
   "outputs": [],
   "source": [
    "# 8. Why is eggs a valid variable name while 100 is invalid?\n",
    "\n",
    "# Ans - because we cant start variable name with integer value. "
   ]
  },
  {
   "cell_type": "code",
   "execution_count": 9,
   "id": "c116f647",
   "metadata": {},
   "outputs": [
    {
     "data": {
      "text/plain": [
       "'spamspamspam'"
      ]
     },
     "execution_count": 9,
     "metadata": {},
     "output_type": "execute_result"
    }
   ],
   "source": [
    "# 7. What should the values of the following two terms be?\n",
    "\"spam\" + \"spamspam\"\n",
    "\"spam\"* 3\n",
    "#ans both will give \"spamspamspam\". "
   ]
  },
  {
   "cell_type": "code",
   "execution_count": 10,
   "id": "ff91736e",
   "metadata": {},
   "outputs": [
    {
     "data": {
      "text/plain": [
       "'spamspamspam'"
      ]
     },
     "execution_count": 10,
     "metadata": {},
     "output_type": "execute_result"
    }
   ],
   "source": [
    "\"spam\"* 3"
   ]
  },
  {
   "cell_type": "code",
   "execution_count": 11,
   "id": "a94e9a5a",
   "metadata": {},
   "outputs": [
    {
     "data": {
      "text/plain": [
       "23"
      ]
     },
     "execution_count": 11,
     "metadata": {},
     "output_type": "execute_result"
    }
   ],
   "source": [
    "#6. After running the following code, what does the variable bacon contain?\n",
    "\n",
    "bacon =22 \n",
    "bacon +1\n",
    "\n",
    "#ans 23 "
   ]
  },
  {
   "cell_type": "code",
   "execution_count": 12,
   "id": "65066cad",
   "metadata": {},
   "outputs": [],
   "source": [
    "# 5. This assignment statements, like spam = 10. What is the difference between an\n",
    "# expression and a statement?\n",
    "\n",
    "#ans: expresion is made up of mathematical operators & values , while statement is like a command we give for output like print , if else statements. "
   ]
  },
  {
   "cell_type": "code",
   "execution_count": 13,
   "id": "822359cb",
   "metadata": {},
   "outputs": [],
   "source": [
    "# 4. What is an expression made up of? What do all expressions do? \n",
    "\n",
    "#ans:  expresion is made up of mathematical operators & values to provide on screen output. "
   ]
  },
  {
   "cell_type": "code",
   "execution_count": 14,
   "id": "c49ffc89",
   "metadata": {},
   "outputs": [],
   "source": [
    "# 3. Describe three different data types.\n",
    "\n",
    "# ans : int - integer , Float & list , tuples , sets "
   ]
  },
  {
   "cell_type": "code",
   "execution_count": 15,
   "id": "63fc15cb",
   "metadata": {},
   "outputs": [],
   "source": [
    "# 2. What is the difference between string and variable?\n",
    "\n",
    "#  string is written only under quotes & variable can store a data like container & we can change variable value at any instance by assigning new values.  "
   ]
  },
  {
   "cell_type": "code",
   "execution_count": null,
   "id": "36045e6a",
   "metadata": {},
   "outputs": [],
   "source": [
    "#1. In the below elements which of them are values or an expression? eg:- values can be\n",
    "# integer or string and expressions will be mathematical operators.\n",
    "* - expression \n",
    "\"hello\" - string\n",
    "-87.8 - integer\n",
    "-  expression\n",
    "/  expression\n",
    "+  expression\n",
    "6   integer"
   ]
  }
 ],
 "metadata": {
  "kernelspec": {
   "display_name": "Python 3 (ipykernel)",
   "language": "python",
   "name": "python3"
  },
  "language_info": {
   "codemirror_mode": {
    "name": "ipython",
    "version": 3
   },
   "file_extension": ".py",
   "mimetype": "text/x-python",
   "name": "python",
   "nbconvert_exporter": "python",
   "pygments_lexer": "ipython3",
   "version": "3.9.7"
  }
 },
 "nbformat": 4,
 "nbformat_minor": 5
}
